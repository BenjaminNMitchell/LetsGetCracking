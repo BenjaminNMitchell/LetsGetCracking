{
 "cells": [
  {
   "cell_type": "code",
   "execution_count": 48,
   "metadata": {},
   "outputs": [],
   "source": [
    "from linked_list import LinkedList\n",
    "from node import Node"
   ]
  },
  {
   "cell_type": "code",
   "execution_count": 31,
   "metadata": {},
   "outputs": [],
   "source": [
    "def test_is_looped(length, start):\n",
    "    try:\n",
    "        looped_list = gen_looped_list(length, start)\n",
    "        rslt = is_looped(looped_list)\n",
    "        expected = length - start - 1\n",
    "        print(\"Expected: {}, Result: {}\".format(expected, rslt.value))\n",
    "    except Exception as err:\n",
    "        print(err)"
   ]
  },
  {
   "cell_type": "code",
   "execution_count": 54,
   "metadata": {},
   "outputs": [],
   "source": [
    "def gen_looped_list(length, first):\n",
    "    print(\"Length: \", length)\n",
    "    print(\"First: \", first)\n",
    "    ll = LinkedList()\n",
    "    ll.size = None\n",
    "    for i in range(length):\n",
    "        n = Node(i)\n",
    "        ll.push(n)\n",
    "    end = ll.head\n",
    "    while end.next is not None:\n",
    "        end = end.next\n",
    "    ptr = ll.head\n",
    "    for i in range(first):\n",
    "        ptr = ptr.next\n",
    "    end.next = ptr\n",
    "    return ll"
   ]
  },
  {
   "cell_type": "code",
   "execution_count": 52,
   "metadata": {},
   "outputs": [],
   "source": [
    "def test_cases():\n",
    "    test_is_looped(10, 9)"
   ]
  },
  {
   "cell_type": "code",
   "execution_count": 42,
   "metadata": {},
   "outputs": [],
   "source": [
    "def is_looped(ll):\n",
    "    fast = ll.head\n",
    "    slow = ll.head\n",
    "    while True:\n",
    "        fast = fast.next.next\n",
    "        slow = slow.next\n",
    "        if fast == slow:\n",
    "            fast = ll.head\n",
    "            break\n",
    "    while True:\n",
    "        fast = fast.next\n",
    "        slow = slow.next\n",
    "        if fast == slow:\n",
    "            return fast"
   ]
  },
  {
   "cell_type": "code",
   "execution_count": 55,
   "metadata": {},
   "outputs": [
    {
     "name": "stdout",
     "output_type": "stream",
     "text": [
      "Length:  10\n",
      "First:  9\n",
      "Expected: 0, Result: 0\n"
     ]
    }
   ],
   "source": [
    "test_cases()"
   ]
  },
  {
   "cell_type": "code",
   "execution_count": null,
   "metadata": {},
   "outputs": [],
   "source": []
  }
 ],
 "metadata": {
  "kernelspec": {
   "display_name": "Python 3",
   "language": "python",
   "name": "python3"
  },
  "language_info": {
   "codemirror_mode": {
    "name": "ipython",
    "version": 3
   },
   "file_extension": ".py",
   "mimetype": "text/x-python",
   "name": "python",
   "nbconvert_exporter": "python",
   "pygments_lexer": "ipython3",
   "version": "3.6.2"
  }
 },
 "nbformat": 4,
 "nbformat_minor": 2
}
