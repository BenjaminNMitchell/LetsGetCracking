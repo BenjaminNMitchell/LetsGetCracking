{
 "cells": [
  {
   "cell_type": "code",
   "execution_count": null,
   "metadata": {},
   "outputs": [],
   "source": [
    "import "
   ]
  },
  {
   "cell_type": "code",
   "execution_count": 1,
   "metadata": {},
   "outputs": [],
   "source": []
  },
  {
   "cell_type": "code",
   "execution_count": 92,
   "metadata": {},
   "outputs": [],
   "source": [
    "def test_is_pallendrome():\n",
    "    even_pallendrome = populate_list(\"abccba\")\n",
    "    try:\n",
    "        even_rslt = is_pallendrome(even_pallendrome)\n",
    "        print(\"Test 1 Expected: True, Actual: {}\".format(even_rslt))\n",
    "    except Exception as err:\n",
    "        print(\"Error: \", err)\n",
    "    odd_pallendrome = populate_list(\"abcdcba\")\n",
    "    try:\n",
    "        odd_rslt = is_pallendrome(odd_pallendrome)\n",
    "        print(\"Test 1 Expected: True, Actual: {}\".format(odd_rslt))\n",
    "    except Exception as err:\n",
    "        print(\"Error: \", err)\n",
    "    not_a_pallendrome = populate_list(\"abccbaa\")\n",
    "    try:\n",
    "        not_rslt = is_pallendrome(not_a_pallendrome)\n",
    "        print(\"Test 1 Expected: False, Actual: {}\".format(not_rslt))\n",
    "    except Exception as err:\n",
    "        print(\"Error: \", err)\n",
    "\n",
    "def populate_list(string):\n",
    "    alist = LinkedList()\n",
    "    alist.size = len(string)\n",
    "    for char in string:\n",
    "        node = Node(char)\n",
    "        alist.push(node)\n",
    "    return alist\n",
    "        "
   ]
  },
  {
   "cell_type": "code",
   "execution_count": 94,
   "metadata": {},
   "outputs": [],
   "source": [
    "def is_pallendrome(linked_list):\n",
    "    print(\"Checking is pallendrome for list:\")\n",
    "    stack = Stack()\n",
    "    rslt, node = is_pallendrome_recursive(linked_list.head,\n",
    "                                    stack,\n",
    "                                    linked_list.size)\n",
    "    return rslt\n",
    "    "
   ]
  },
  {
   "cell_type": "code",
   "execution_count": 84,
   "metadata": {},
   "outputs": [],
   "source": [
    "def is_pallendrome_recursive(node, stack, size):\n",
    "    try:\n",
    "        next_node = node.next\n",
    "    except:\n",
    "        next_node = None\n",
    "    if size == 0:\n",
    "        value = stack.pop()\n",
    "        flag = node.value == value\n",
    "        return flag, next_node\n",
    "    elif size == 1: \n",
    "        return True, next_node\n",
    "    else:\n",
    "        stack.push(node.value)\n",
    "        rslt, new_node = is_pallendrome_recursive(node.next, stack, size - 2)\n",
    "        value = stack.pop()\n",
    "        if new_node is not None:\n",
    "            next_node = new_node.next\n",
    "            flag = rslt and (value == new_node.value)\n",
    "        else:\n",
    "            next_node = None\n",
    "            flag = rslt\n",
    "        return flag, next_node"
   ]
  }
 ],
 "metadata": {
  "kernelspec": {
   "display_name": "Python 3",
   "language": "python",
   "name": "python3"
  },
  "language_info": {
   "codemirror_mode": {
    "name": "ipython",
    "version": 3
   },
   "file_extension": ".py",
   "mimetype": "text/x-python",
   "name": "python",
   "nbconvert_exporter": "python",
   "pygments_lexer": "ipython3",
   "version": "3.6.2"
  }
 },
 "nbformat": 4,
 "nbformat_minor": 2
}
