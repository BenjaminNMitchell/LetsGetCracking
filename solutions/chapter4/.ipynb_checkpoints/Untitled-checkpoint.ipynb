{
 "cells": [
  {
   "cell_type": "code",
   "execution_count": 153,
   "metadata": {
    "collapsed": true
   },
   "outputs": [],
   "source": [
    "import random"
   ]
  },
  {
   "cell_type": "code",
   "execution_count": 151,
   "metadata": {
    "collapsed": true
   },
   "outputs": [],
   "source": [
    "class Node:\n",
    "    \n",
    "    def __init__(self, value):\n",
    "        self.value = value\n",
    "        self.left = None\n",
    "        self.right = None\n",
    "    \n",
    "    def __str__(self):\n",
    "        return str(self.value)\n",
    "    \n"
   ]
  },
  {
   "cell_type": "code",
   "execution_count": 152,
   "metadata": {
    "collapsed": true
   },
   "outputs": [],
   "source": [
    "def gen_bst(sorted_list):\n",
    "    size = len(sorted_list)\n",
    "    if size == 0:\n",
    "        return None\n",
    "    elif size == 1:\n",
    "        return Node(sorted_list[0])\n",
    "    else:\n",
    "        mid_pt = size // 2\n",
    "        n = Node(sorted_list[mid_pt])\n",
    "        left = sorted_list[:mid_pt]\n",
    "        right = sorted_list[mid_pt + 1 :]\n",
    "        n.left = gen_bst(left)\n",
    "        n.right = gen_bst(right)\n",
    "        return n"
   ]
  },
  {
   "cell_type": "code",
   "execution_count": 150,
   "metadata": {},
   "outputs": [
    {
     "name": "stdout",
     "output_type": "stream",
     "text": [
      "Depth 0:  5                  \n",
      "Depth 1:  2  13              \n"
     ]
    }
   ],
   "source": [
    "class Queue:\n",
    "    \n",
    "    def __init__(self):\n",
    "        self.head = None\n",
    "        self.tail = None\n",
    "    \n",
    "    def enqueue(self, value):\n",
    "        n = Node(value)\n",
    "        n.next = None\n",
    "        if self.head is None:\n",
    "            self.head = n\n",
    "            self.tail = n\n",
    "        else:\n",
    "            self.tail.next = n\n",
    "            self.tail = n\n",
    "            \n",
    "    def dequeue(self):\n",
    "        temp = self.head\n",
    "        if temp is not None:\n",
    "            self.head = temp.next\n",
    "            rtn = temp.value\n",
    "        else:\n",
    "            rtn = None\n",
    "        if self.head is None:\n",
    "            self.tail = None\n",
    "        return rtn\n",
    "    \n",
    "    def is_empty(self):\n",
    "        return self.head is None\n",
    "    \n",
    "    def __str__(self):\n",
    "        ptr = self.head\n",
    "        rtn = \"\"\n",
    "        while ptr is not None:\n",
    "            rtn += str(ptr) + \"\\n\"\n",
    "            ptr = ptr.next\n",
    "        return rtn\n",
    "    \n",
    "\n",
    "def display(tree):\n",
    "    q = Queue()\n",
    "    tree.depth = 0\n",
    "    current_depth = 0\n",
    "    q.enqueue(tree)\n",
    "    level = \"\"\n",
    "    while not q.is_empty():\n",
    "        n = q.dequeue()\n",
    "        if n.left is not None:\n",
    "            n.left.depth = n.depth + 1\n",
    "            q.enqueue(n.left)\n",
    "        if n.right is not None:\n",
    "            n.right.depth = n.depth + 1\n",
    "            q.enqueue(n.right)\n",
    "        if n.depth != current_depth:\n",
    "            print(f\"Depth {current_depth}: {level:20}\")\n",
    "            current_depth += 1\n",
    "            level = \"\"\n",
    "        level += \" {} \".format(n.value)\n",
    "    print(f\"Depth {current_depth}: {level:20}\")"
   ]
  },
  {
   "cell_type": "code",
   "execution_count": 158,
   "metadata": {},
   "outputs": [],
   "source": [
    "vals = sorted([random.randint(0, 100000000) for i in range(200)])"
   ]
  },
  {
   "cell_type": "code",
   "execution_count": 160,
   "metadata": {},
   "outputs": [
    {
     "name": "stdout",
     "output_type": "stream",
     "text": [
      "Depth 0:  49509659           \n",
      "Depth 1:  23084331  77906022 \n",
      "Depth 2:  14106110  35931486  63551392  91462437 \n",
      "Depth 3:  6385673  18431555  29623887  42643658  54730878  68676748  84324579  96500221 \n",
      "Depth 4:  4296851  9861849  16949617  20815213  26685016  31344536  39740637  45176932  50522664  59873441  66759582  72349024  83102828  86543531  93657025  98715781 \n",
      "Depth 5:  1867335  5873419  8143606  12433393  15870426  18002411  19035950  22731849  24403450  28737459  30449815  32184036  37543464  40691983  44030589  46383211  50053215  51892290  59340753  61879913  65322887  67696619  70214059  74792015  80590246  83685226  85057141  90437569  93105634  94571269  97658117  99862917 \n",
      "Depth 6:  1700862  3397532  5041855  6300374  7052996  9514258  12219169  13732366  15471669  16565949  17935627  18419466  19000539  19840431  22649419  23010001  23684685  26262101  27803083  29588673  30127053  31126427  31966755  35058992  36270234  38269955  40287575  42492089  44016259  44862499  45580880  47590101  49807108  50416669  50929966  53839459  56729228  59766938  61301293  63366617  64795783  66456567  67493544  68037015  69644336  70563070  73461117  77860800  78256488  81926582  83594952  84034370  84808705  86005553  89540224  90742849  92585253  93386303  94475469  95727317  97622252  98707123  99301317  99944374 \n",
      "Depth 7:  1529389  1721546  2030033  4400455  6241250  6497931  7267627  8957225  11147206  13340735  15021044  15545243  16416217  17850817  18393051  18822664  19223633  21050829  22779774  23522736  23709855  25702210  27094408  29221653  29632677  30552027  31777669  32324388  36103956  36371000  37564251  39959793  42025470  43336030  44632459  45254647  46466379  49618887  49973672  50126804  50648264  52590431  55821997  59343885  60342546  62439417  63775169  64851146  66315736  67097886  67750319  69375722  70441547  72708634  76313892  77996714  80185687  80659314  83556790  83744218  84362055  85833947  86772099  90541858  91943094  92744718  93194158  93854622  95108550  96742381  98000496  98854416  99919829 \n"
     ]
    }
   ],
   "source": [
    "display(gen_bst(vals))"
   ]
  },
  {
   "cell_type": "code",
   "execution_count": null,
   "metadata": {
    "collapsed": true
   },
   "outputs": [],
   "source": []
  }
 ],
 "metadata": {
  "kernelspec": {
   "display_name": "Python 3",
   "language": "python",
   "name": "python3"
  },
  "language_info": {
   "codemirror_mode": {
    "name": "ipython",
    "version": 3
   },
   "file_extension": ".py",
   "mimetype": "text/x-python",
   "name": "python",
   "nbconvert_exporter": "python",
   "pygments_lexer": "ipython3",
   "version": "3.6.2"
  }
 },
 "nbformat": 4,
 "nbformat_minor": 2
}
