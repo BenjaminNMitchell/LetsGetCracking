{
 "cells": [
  {
   "cell_type": "markdown",
   "metadata": {},
   "source": [
    "This ipynb impliments a multi breadth first search algorithm which\n",
    "runs two breadth first searches from the target and starting nodes\n",
    "and alternates between each"
   ]
  },
  {
   "cell_type": "code",
   "execution_count": 302,
   "metadata": {},
   "outputs": [],
   "source": [
    "def multi_bfs(g, id_1, id_2):\n",
    "    bfs1 = bfs(g, id_1, id_2)\n",
    "    bfs2 = bfs(g, id_2, id_1)\n",
    "    flipflop = True\n",
    "    while True:\n",
    "        try:\n",
    "            if flipflop:\n",
    "                print(\"BFS1: \")\n",
    "                n = next(bfs1)\n",
    "            else:\n",
    "                print(\"BFS2: \")\n",
    "                n = next(bfs2)\n",
    "            if n:\n",
    "                return True\n",
    "            flipflop = not flipflop\n",
    "        except StopIteration:\n",
    "            return False                \n",
    "\n",
    "def bfs(g, id_1, id_2):\n",
    "    q = Queue()\n",
    "    q.enqueue(Node(id_1))\n",
    "    while not q.is_empty():\n",
    "        current = q.dequeue().value\n",
    "        \n",
    "        print(f\"\\tCurrent: {current}\")\n",
    "        c_node = g.nodes[current]\n",
    "        c_node.mark(id_1)\n",
    "        print(f\"\\t\\tvisited: {c_node.visited}\")\n",
    "        if c_node.seen(id_2) or c_node.id_number == id_2:\n",
    "            print(\"----Found-----\")\n",
    "            yield True\n",
    "        else:\n",
    "            yield False\n",
    "        for id_ in g.nodes[current].nebours:\n",
    "            print(f\"\\t\\tNebour {id_}\")\n",
    "            print(\"\\t\\tg.nodes[id_].visited: \", g.nodes[id_].visited)\n",
    "            if not g.nodes[id_].seen(id_1):\n",
    "                print(f\"\\t\\t\\tAdding: {id_}\")\n",
    "                q.enqueue(Node(id_))\n"
   ]
  },
  {
   "cell_type": "code",
   "execution_count": 293,
   "metadata": {
    "collapsed": true
   },
   "outputs": [],
   "source": [
    "class Graph:\n",
    "    \n",
    "    def __init__(self):\n",
    "        self.nodes = {}\n",
    "        self.id_number = 0\n",
    "        \n",
    "    def add_node(self, node):\n",
    "        node.id_number = self.id_number\n",
    "        self.id_number += 1\n",
    "        self.nodes[node.id_number] = node\n",
    "        \n",
    "    def add_edge(self, id_1, id_2):\n",
    "        print(f\"Adding {id_1} to {id_2}\")\n",
    "        self.nodes[id_1].add_nebour(id_2)\n",
    "        \n",
    "class Node:\n",
    "    \n",
    "    def __init__(self, value):\n",
    "        self.visited = None\n",
    "        self.value = value\n",
    "        self.next = None\n",
    "        self.nebours = []\n",
    "        \n",
    "    def add_nebour(self, nebour):\n",
    "        self.nebours.append(nebour)\n",
    "        \n",
    "    def mark(self, id_):\n",
    "        if self.visited is None:\n",
    "            self.visited = [id_]\n",
    "        else:\n",
    "            self.visited.append(id_)\n",
    "            \n",
    "    def seen(self, id_2):\n",
    "        if self.visited is None:\n",
    "            return False\n",
    "        else:\n",
    "            return id_2 in self.visited\n",
    "\n",
    "        \n",
    "class Queue:\n",
    "    def __init__(self):\n",
    "        self.head = None\n",
    "        self.tail = None\n",
    "        \n",
    "    def enqueue(self, node):\n",
    "        if self.head is None:\n",
    "            self.head = node\n",
    "            self.tail = node\n",
    "        else:\n",
    "            self.tail.next = node\n",
    "            self.tail = node\n",
    "    \n",
    "    def dequeue(self):\n",
    "        temp = self.head\n",
    "        self.head = temp.next\n",
    "        return temp\n",
    "    \n",
    "    def is_empty(self):\n",
    "        return self.head is None\n",
    "    \n",
    "    def __str__(self):\n",
    "        ptr = self.head\n",
    "        str_rep = \"Start\\n\"\n",
    "        while ptr is not None:\n",
    "            str_rep += str(ptr.value) + \"\\n\"\n",
    "            ptr = ptr.next\n",
    "        str_rep += \"End\"\n",
    "        return str_rep\n",
    "            "
   ]
  },
  {
   "cell_type": "code",
   "execution_count": 303,
   "metadata": {},
   "outputs": [
    {
     "name": "stdout",
     "output_type": "stream",
     "text": [
      "Adding 0 to 2\n",
      "Adding 2 to 0\n",
      "Adding 1 to 2\n",
      "Adding 2 to 1\n",
      "Adding 2 to 3\n",
      "Adding 3 to 2\n",
      "Adding 4 to 2\n",
      "Adding 2 to 4\n",
      "Adding 0 to 1\n",
      "Adding 1 to 0\n",
      "Adding 3 to 4\n",
      "Adding 4 to 3\n",
      "BFS1: \n",
      "\tCurrent: 0\n",
      "\t\tvisited: [0]\n",
      "BFS2: \n",
      "\tCurrent: 4\n",
      "\t\tvisited: [4]\n",
      "BFS1: \n",
      "\t\tNebour 2\n",
      "\t\tg.nodes[id_].visited:  None\n",
      "\t\t\tAdding: 2\n",
      "\t\tNebour 1\n",
      "\t\tg.nodes[id_].visited:  None\n",
      "\t\t\tAdding: 1\n",
      "\tCurrent: 2\n",
      "\t\tvisited: [0]\n",
      "BFS2: \n",
      "\t\tNebour 2\n",
      "\t\tg.nodes[id_].visited:  [0]\n",
      "\t\t\tAdding: 2\n",
      "\t\tNebour 3\n",
      "\t\tg.nodes[id_].visited:  None\n",
      "\t\t\tAdding: 3\n",
      "\tCurrent: 2\n",
      "\t\tvisited: [0, 4]\n",
      "----Found-----\n"
     ]
    }
   ],
   "source": [
    "g = Graph()\n",
    "for i in range(5):\n",
    "    g.add_node(Node(i))\n",
    "\n",
    "for i, j in pairs:\n",
    "    g.add_edge(i, j)\n",
    "    g.add_edge(j, i)\n",
    "\n",
    "\n",
    "val = multi_bfs(g, 0, 4)"
   ]
  },
  {
   "cell_type": "code",
   "execution_count": 296,
   "metadata": {},
   "outputs": [
    {
     "name": "stdout",
     "output_type": "stream",
     "text": [
      "True\n"
     ]
    }
   ],
   "source": [
    "print(val)"
   ]
  },
  {
   "cell_type": "code",
   "execution_count": 269,
   "metadata": {},
   "outputs": [
    {
     "name": "stdout",
     "output_type": "stream",
     "text": [
      "Current: 0\n",
      "\tNebour 2\n",
      "\tg.nodes[id_].visited:  None\n",
      "\t\tAdding: 2\n",
      "\tNebour 1\n",
      "\tg.nodes[id_].visited:  None\n",
      "\t\tAdding: 1\n",
      "Current: 2\n",
      "\tNebour 0\n",
      "\tg.nodes[id_].visited:  0\n",
      "\tNebour 1\n",
      "\tg.nodes[id_].visited:  None\n",
      "\t\tAdding: 1\n",
      "\tNebour 3\n",
      "\tg.nodes[id_].visited:  None\n",
      "\t\tAdding: 3\n",
      "\tNebour 4\n",
      "\tg.nodes[id_].visited:  None\n",
      "\t\tAdding: 4\n",
      "Current: 1\n",
      "\tNebour 2\n",
      "\tg.nodes[id_].visited:  0\n",
      "\tNebour 0\n",
      "\tg.nodes[id_].visited:  0\n",
      "Current: 1\n",
      "\tNebour 2\n",
      "\tg.nodes[id_].visited:  0\n",
      "\tNebour 0\n",
      "\tg.nodes[id_].visited:  0\n",
      "Current: 3\n",
      "\tNebour 2\n",
      "\tg.nodes[id_].visited:  0\n",
      "\tNebour 4\n",
      "\tg.nodes[id_].visited:  None\n",
      "\t\tAdding: 4\n",
      "Current: 4\n",
      "\tNebour 2\n",
      "\tg.nodes[id_].visited:  0\n",
      "\tNebour 3\n",
      "\tg.nodes[id_].visited:  0\n",
      "True\n"
     ]
    }
   ],
   "source": [
    "while True:\n",
    "    try:\n",
    "        n = next(bfs1)\n",
    "        if n:\n",
    "            break\n",
    "    except StopItteration:\n",
    "        break\n",
    "print(n)"
   ]
  },
  {
   "cell_type": "code",
   "execution_count": 217,
   "metadata": {},
   "outputs": [],
   "source": [
    "for i in bfs1:\n",
    "    print(i)"
   ]
  },
  {
   "cell_type": "code",
   "execution_count": 210,
   "metadata": {},
   "outputs": [
    {
     "name": "stdout",
     "output_type": "stream",
     "text": [
      "0 [2, 1]\n",
      "1 [2, 0]\n",
      "2 [0, 1, 3, 4]\n",
      "3 [2, 4]\n",
      "4 [2, 3]\n"
     ]
    }
   ],
   "source": [
    "for key, vals in g.nodes.items():\n",
    "    print(key, vals.nebours)"
   ]
  },
  {
   "cell_type": "code",
   "execution_count": 207,
   "metadata": {},
   "outputs": [
    {
     "name": "stdout",
     "output_type": "stream",
     "text": [
      "0 [2, 1]\n",
      "1 [2, 0]\n",
      "2 [0, 1, 3, 4]\n",
      "3 [2, 4]\n",
      "4 [2, 3]\n"
     ]
    }
   ],
   "source": [
    "for key, node in g.nodes.items():\n",
    "    print(key, node.nebours)"
   ]
  },
  {
   "cell_type": "code",
   "execution_count": 154,
   "metadata": {
    "collapsed": true
   },
   "outputs": [],
   "source": [
    "pairs = [(0, 2),\n",
    "(1, 2),\n",
    "(2, 3),\n",
    "(4, 2),\n",
    "(0, 1),\n",
    "(3, 4)]\n"
   ]
  },
  {
   "cell_type": "code",
   "execution_count": 244,
   "metadata": {},
   "outputs": [
    {
     "ename": "StopIteration",
     "evalue": "",
     "output_type": "error",
     "traceback": [
      "\u001b[0;31m---------------------------------------------------------------------------\u001b[0m",
      "\u001b[0;31mStopIteration\u001b[0m                             Traceback (most recent call last)",
      "\u001b[0;32m<ipython-input-244-641a931447e8>\u001b[0m in \u001b[0;36m<module>\u001b[0;34m()\u001b[0m\n\u001b[0;32m----> 1\u001b[0;31m \u001b[0mnext\u001b[0m\u001b[0;34m(\u001b[0m\u001b[0mb\u001b[0m\u001b[0;34m)\u001b[0m\u001b[0;34m\u001b[0m\u001b[0m\n\u001b[0m",
      "\u001b[0;31mStopIteration\u001b[0m: "
     ]
    }
   ],
   "source": [
    "next(b)"
   ]
  },
  {
   "cell_type": "code",
   "execution_count": 251,
   "metadata": {
    "collapsed": true
   },
   "outputs": [],
   "source": [
    "g = Graph()"
   ]
  },
  {
   "cell_type": "code",
   "execution_count": 202,
   "metadata": {
    "collapsed": true
   },
   "outputs": [],
   "source": [
    "g.add_node(Node(0))"
   ]
  }
 ],
 "metadata": {
  "kernelspec": {
   "display_name": "Python 3",
   "language": "python",
   "name": "python3"
  },
  "language_info": {
   "codemirror_mode": {
    "name": "ipython",
    "version": 3
   },
   "file_extension": ".py",
   "mimetype": "text/x-python",
   "name": "python",
   "nbconvert_exporter": "python",
   "pygments_lexer": "ipython3",
   "version": "3.6.2"
  }
 },
 "nbformat": 4,
 "nbformat_minor": 2
}
