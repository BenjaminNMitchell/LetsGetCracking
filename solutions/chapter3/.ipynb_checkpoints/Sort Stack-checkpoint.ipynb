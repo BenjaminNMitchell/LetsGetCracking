{
 "cells": [
  {
   "cell_type": "code",
   "execution_count": 180,
   "metadata": {},
   "outputs": [],
   "source": [
    "class Stack:\n",
    "    \n",
    "    def __init__(self):\n",
    "        self.top = None\n",
    "    \n",
    "    def push(self, node):\n",
    "        node.next = self.top\n",
    "        self.top = node\n",
    "        \n",
    "    def peak(self):\n",
    "        n = self.pop()\n",
    "        temp = n.value\n",
    "        self.push(n)\n",
    "        return temp\n",
    "    \n",
    "    def pop(self):\n",
    "        temp = self.top\n",
    "        self.top = temp.next\n",
    "        return temp\n",
    "\n",
    "    def is_empty(self):\n",
    "        return self.top is None\n",
    "    \n",
    "    def pop_all(self):\n",
    "        while True:\n",
    "            try:\n",
    "                yield self.pop()\n",
    "            except RuntimeError:\n",
    "                break\n",
    "            \n",
    "    def __str__(self):\n",
    "        ptr = self.top\n",
    "        str_rep = \"Top:\"\n",
    "        while ptr is not None:\n",
    "            str_rep += \"{}\\n\".format(ptr.value)\n",
    "            ptr = ptr.next\n",
    "        return str_rep\n",
    "\n",
    "class Node:\n",
    "    def __init__(self, value):\n",
    "        self.value = value\n",
    "    \n",
    "\n",
    "def sort_stack(stack):\n",
    "    stack2 = Stack()\n",
    "    while not stack.is_empty():\n",
    "        comp_node = stack.pop()\n",
    "        print(comp_node.value)\n",
    "        while not stack2.is_empty() and stack2.peak() > comp_node.value:\n",
    "            stack.push(stack2.pop())\n",
    "        stack2.push(comp_node)\n",
    "    return stack2"
   ]
  },
  {
   "cell_type": "code",
   "execution_count": 182,
   "metadata": {},
   "outputs": [
    {
     "name": "stdout",
     "output_type": "stream",
     "text": [
      "7\n",
      "4\n",
      "7\n",
      "1\n",
      "4\n",
      "7\n",
      "8\n",
      "5\n",
      "7\n",
      "8\n",
      "5\n",
      "7\n",
      "8\n",
      "6\n",
      "7\n",
      "8\n",
      "Top:8\n",
      "7\n",
      "6\n",
      "5\n",
      "5\n",
      "4\n",
      "1\n",
      "\n"
     ]
    }
   ],
   "source": [
    "def test_sort_stack():\n",
    "    stack = Stack()\n",
    "    vals = reversed([7, 4, 1, 8, 5, 5, 6])\n",
    "    for val in vals:\n",
    "        stack.push(Node(val))\n",
    "    ss = sort_stack(stack)\n",
    "\n",
    "test_sort_stack()"
   ]
  },
  {
   "cell_type": "code",
   "execution_count": 183,
   "metadata": {},
   "outputs": [
    {
     "name": "stdout",
     "output_type": "stream",
     "text": [
      "Comp Node: 7\n",
      "Top:8\n",
      "5\n",
      "5\n",
      "6\n",
      " Top:7\n",
      "1\n",
      "4\n",
      "\n"
     ]
    }
   ],
   "source": [
    "test_push_from_to()"
   ]
  },
  {
   "cell_type": "code",
   "execution_count": null,
   "metadata": {
    "collapsed": true
   },
   "outputs": [],
   "source": []
  }
 ],
 "metadata": {
  "kernelspec": {
   "display_name": "Python 3",
   "language": "python",
   "name": "python3"
  },
  "language_info": {
   "codemirror_mode": {
    "name": "ipython",
    "version": 3
   },
   "file_extension": ".py",
   "mimetype": "text/x-python",
   "name": "python",
   "nbconvert_exporter": "python",
   "pygments_lexer": "ipython3",
   "version": "3.6.2"
  }
 },
 "nbformat": 4,
 "nbformat_minor": 2
}
