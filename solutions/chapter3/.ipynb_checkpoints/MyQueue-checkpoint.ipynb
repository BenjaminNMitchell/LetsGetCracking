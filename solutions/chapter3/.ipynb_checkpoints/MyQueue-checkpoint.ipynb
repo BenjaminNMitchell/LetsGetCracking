{
 "cells": [
  {
   "cell_type": "markdown",
   "metadata": {},
   "source": [
    "# A queue using only two stacks"
   ]
  },
  {
   "cell_type": "code",
   "execution_count": 75,
   "metadata": {},
   "outputs": [],
   "source": [
    "#Basic stack to work with\n",
    "\n",
    "class Stack():\n",
    "    \n",
    "    def __init__(self):\n",
    "        self.top = None\n",
    "        self.size = 0\n",
    "        \n",
    "    def push(self, node):\n",
    "        self.size += 1\n",
    "        node.next = self.top\n",
    "        self.top = node\n",
    "        \n",
    "        \n",
    "    def pop(self):\n",
    "        temp = self.top\n",
    "        if temp is not None:\n",
    "            self.size -= 1\n",
    "            self.top = temp.next\n",
    "        return temp\n",
    "    \n",
    "    def pop_all(self):\n",
    "        while True:\n",
    "            val = self.pop()\n",
    "            if val is None:\n",
    "                break\n",
    "            yield val\n",
    "            \n",
    "    def is_empty(self):\n",
    "        return self.top is None\n",
    "    \n",
    "    def __str__(self):\n",
    "        ptr = self.top\n",
    "        str_rep = \"Top:\\n\"\n",
    "        while ptr is not None:\n",
    "            str_rep += \"\\t{}\\n\".format(ptr.value)\n",
    "            ptr = ptr.next\n",
    "        return str_rep\n",
    "\n",
    "class Node():\n",
    "    \n",
    "    def __init__(self, value):\n",
    "        self.value = value\n",
    "        "
   ]
  },
  {
   "cell_type": "code",
   "execution_count": 69,
   "metadata": {
    "collapsed": true
   },
   "outputs": [],
   "source": [
    "def test_stack():\n",
    "    vals = [1, 2, 3, 4]\n",
    "    s = Stack()\n",
    "    print(s.is_empty())\n",
    "    for val in vals:\n",
    "        s.push(Node(val))\n",
    "    print(not s.is_empty())\n",
    "    n = s.pop()\n",
    "    print(n.value == 4)\n",
    "    s.push(Node(5))\n",
    "    for i in [5, 3, 2, 1]:\n",
    "        n = s.pop()\n",
    "        print(n.value == i)\n",
    "    print(s.is_empty())"
   ]
  },
  {
   "cell_type": "code",
   "execution_count": 70,
   "metadata": {},
   "outputs": [],
   "source": [
    "class MyQueue:\n",
    "    \n",
    "    def __init__(self):\n",
    "        self.s1 = Stack()\n",
    "        self.s2 = Stack()\n",
    "        \n",
    "    def put(self, node):\n",
    "        self.s2.push(node)\n",
    "        \n",
    "    def shift_stacks(self):\n",
    "        for n in self.s2.pop_all():\n",
    "            self.s1.push(n)\n",
    "    \n",
    "    def get(self):\n",
    "        if self.s1.is_empty():\n",
    "            self.shift_stacks()\n",
    "        return self.s1.pop()\n",
    "        \n",
    "    def size(self):\n",
    "        return s1.size + s2.size\n",
    "    \n",
    "    def is_empty(self):\n",
    "        return self.size() == 0\n",
    "    \n",
    "    def __str__(self):\n",
    "        return \"S1\\n{}\\nS2\\n{}\\n\".format(self.s1, self.s2)"
   ]
  },
  {
   "cell_type": "code",
   "execution_count": 71,
   "metadata": {
    "collapsed": true
   },
   "outputs": [],
   "source": [
    "def test_my_queue():\n",
    "    vals = [1, 2, 3]\n",
    "    mq = MyQueue()\n",
    "    for val in vals :\n",
    "        mq.put(Node(val))\n",
    "    get_and_compare(mq, 1)\n",
    "    mq.put(Node(4))\n",
    "    get_and_compare(mq, 2)\n",
    "    mq.put(Node(5))\n",
    "    for val in [3, 4, 5]:\n",
    "\n",
    "        get_and_compare(mq, val)\n",
    "        \n",
    "def get_and_compare(q, val):\n",
    "\n",
    "    n = q.get()\n",
    "    print(\"looking for {} got {}\".format(val, n.value))\n",
    "    print(n.value == val)"
   ]
  },
  {
   "cell_type": "code",
   "execution_count": 72,
   "metadata": {},
   "outputs": [
    {
     "name": "stdout",
     "output_type": "stream",
     "text": [
      "looking for 1 got 1\n",
      "True\n",
      "looking for 2 got 2\n",
      "True\n",
      "looking for 3 got 3\n",
      "True\n",
      "looking for 4 got 4\n",
      "True\n",
      "looking for 5 got 5\n",
      "True\n"
     ]
    }
   ],
   "source": [
    "test_my_queue()"
   ]
  },
  {
   "cell_type": "code",
   "execution_count": 107,
   "metadata": {
    "collapsed": true
   },
   "outputs": [],
   "source": [
    "mq = MyQueue()"
   ]
  },
  {
   "cell_type": "code",
   "execution_count": 104,
   "metadata": {
    "collapsed": true
   },
   "outputs": [],
   "source": [
    "n = mq.get()"
   ]
  },
  {
   "cell_type": "code",
   "execution_count": 105,
   "metadata": {},
   "outputs": [
    {
     "name": "stdout",
     "output_type": "stream",
     "text": [
      "4\n"
     ]
    }
   ],
   "source": []
  },
  {
   "cell_type": "code",
   "execution_count": 108,
   "metadata": {},
   "outputs": [],
   "source": []
  },
  {
   "cell_type": "code",
   "execution_count": 109,
   "metadata": {},
   "outputs": [
    {
     "data": {
      "text/plain": [
       "<__main__.Node at 0x102fb41d0>"
      ]
     },
     "execution_count": 109,
     "metadata": {},
     "output_type": "execute_result"
    }
   ],
   "source": []
  },
  {
   "cell_type": "code",
   "execution_count": 110,
   "metadata": {
    "collapsed": true
   },
   "outputs": [],
   "source": []
  },
  {
   "cell_type": "code",
   "execution_count": 116,
   "metadata": {},
   "outputs": [
    {
     "data": {
      "text/plain": [
       "6"
      ]
     },
     "execution_count": 116,
     "metadata": {},
     "output_type": "execute_result"
    }
   ],
   "source": []
  },
  {
   "cell_type": "code",
   "execution_count": null,
   "metadata": {
    "collapsed": true
   },
   "outputs": [],
   "source": []
  },
  {
   "cell_type": "code",
   "execution_count": null,
   "metadata": {
    "collapsed": true
   },
   "outputs": [],
   "source": []
  }
 ],
 "metadata": {
  "kernelspec": {
   "display_name": "Python 3",
   "language": "python",
   "name": "python3"
  },
  "language_info": {
   "codemirror_mode": {
    "name": "ipython",
    "version": 3
   },
   "file_extension": ".py",
   "mimetype": "text/x-python",
   "name": "python",
   "nbconvert_exporter": "python",
   "pygments_lexer": "ipython3",
   "version": "3.6.2"
  }
 },
 "nbformat": 4,
 "nbformat_minor": 2
}
