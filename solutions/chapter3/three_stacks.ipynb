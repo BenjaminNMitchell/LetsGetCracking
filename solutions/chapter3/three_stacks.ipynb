{
 "cells": [
  {
   "cell_type": "markdown",
   "metadata": {},
   "source": [
    "this is a simple implimentation may do a flexible size version later"
   ]
  },
  {
   "cell_type": "code",
   "execution_count": 56,
   "metadata": {},
   "outputs": [],
   "source": [
    "import array\n",
    "import itertools\n",
    "class three_stack_array():\n",
    "    \n",
    "    def __init__(self, max_stack_size):\n",
    "        self.array_size = 3 * max_stack_size\n",
    "        self.array = [None] * 3 * max_stack_size\n",
    "        self.heads = [-3, -2, -1]\n",
    "    \n",
    "    def push(self, stack_num, val):\n",
    "        if self.heads[stack_num] > self.array_size:\n",
    "            raise RuntimeError(\"Stack {} is full\".format(stack_num))\n",
    "        else:\n",
    "            self.heads[stack_num] += 3\n",
    "            self.array[self.heads[stack_num]] = val\n",
    "            \n",
    "        \n",
    "    def pop(self, stack_num):\n",
    "        if self.heads[stack_num] < 0:\n",
    "            raise RuntimeError(\"Stack {} is empty\".format(stack_num))\n",
    "        else:            \n",
    "            temp = self.array[self.heads[stack_num]]\n",
    "            self.array[self.heads[stack_num]] = None\n",
    "            self.heads[stack_num] -= 3\n",
    "            return temp"
   ]
  },
  {
   "cell_type": "code",
   "execution_count": 48,
   "metadata": {},
   "outputs": [],
   "source": [
    "tsa = three_stack_array(10)"
   ]
  },
  {
   "cell_type": "code",
   "execution_count": 68,
   "metadata": {},
   "outputs": [],
   "source": [
    "for i, j, k in zip(\"abcdefghij\", range(10), [i ** 2 for i in range(10)]):\n",
    "    tsa.push(0, i)\n",
    "    tsa.push(1, j)\n",
    "    tsa.push(2, k)"
   ]
  },
  {
   "cell_type": "code",
   "execution_count": 70,
   "metadata": {},
   "outputs": [],
   "source": [
    "for i in range(10):\n",
    "    tsa.pop(1)"
   ]
  }
 ],
 "metadata": {
  "kernelspec": {
   "display_name": "Python 3",
   "language": "python",
   "name": "python3"
  },
  "language_info": {
   "codemirror_mode": {
    "name": "ipython",
    "version": 3
   },
   "file_extension": ".py",
   "mimetype": "text/x-python",
   "name": "python",
   "nbconvert_exporter": "python",
   "pygments_lexer": "ipython3",
   "version": "3.6.2"
  }
 },
 "nbformat": 4,
 "nbformat_minor": 2
}
