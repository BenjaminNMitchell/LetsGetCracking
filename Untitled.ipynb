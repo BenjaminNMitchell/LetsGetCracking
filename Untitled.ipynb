{
 "cells": [
  {
   "cell_type": "code",
   "execution_count": 1,
   "metadata": {},
   "outputs": [],
   "source": [
    "class LinkedList:\n",
    "    def __init__(self):\n",
    "        self.head = None\n",
    "        \n",
    "    def push(self, node):\n",
    "        node.next = self.head\n",
    "        self.head = node\n",
    "    \n",
    "    def pop(self):\n",
    "        temp = self.head\n",
    "        self.head = temp.next\n",
    "        return temp\n",
    "    \n",
    "    def display(self):\n",
    "        ptr = self.head\n",
    "        print(\"LinkedList Size: {}\".format(self.size))\n",
    "        while ptr is not None:\n",
    "            ptr.display()\n",
    "            if ptr.next is not None:\n",
    "                print(\" -> \")\n",
    "            ptr = ptr.next"
   ]
  },
  {
   "cell_type": "code",
   "execution_count": null,
   "metadata": {},
   "outputs": [],
   "source": []
  }
 ],
 "metadata": {
  "kernelspec": {
   "display_name": "Python 3",
   "language": "python",
   "name": "python3"
  },
  "language_info": {
   "codemirror_mode": {
    "name": "ipython",
    "version": 3
   },
   "file_extension": ".py",
   "mimetype": "text/x-python",
   "name": "python",
   "nbconvert_exporter": "python",
   "pygments_lexer": "ipython3",
   "version": "3.6.2"
  }
 },
 "nbformat": 4,
 "nbformat_minor": 2
}
